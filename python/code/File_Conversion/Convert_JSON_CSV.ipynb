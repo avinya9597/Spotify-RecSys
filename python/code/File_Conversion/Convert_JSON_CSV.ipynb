{
 "cells": [
  {
   "cell_type": "code",
   "execution_count": 20,
   "id": "6a57ca65",
   "metadata": {},
   "outputs": [],
   "source": [
    "import json\n",
    "import os\n",
    "import csv\n",
    "from pprint import *\n",
    "from tqdm import tqdm\n",
    "import sys\n",
    "\n",
    "path_to_load='../../data/spotify/'\n",
    "path_to_csv='../../data/csv/'"
   ]
  },
  {
   "cell_type": "code",
   "execution_count": 21,
   "id": "4e7c60c1",
   "metadata": {},
   "outputs": [],
   "source": [
    "playlist_fields = ['pid','name', 'collaborative', 'modified_at', 'num_albums', 'num_tracks', 'num_followers',\n",
    "'num_tracks', 'num_edits', 'duration_ms', 'num_artists','description']\n",
    "\n",
    "track_fields = ['tid', 'arid' , 'alid', 'track_uri', 'track_name', 'duration_ms']\n",
    "\n",
    "album_fields = ['alid','album_uri','album_name']\n",
    "\n",
    "artist_fields = ['arid','artist_uri','artist_name']\n",
    "\n",
    "interaction_fields = ['pid','tid','pos']\n",
    "\n",
    "interactions = []\n",
    "playlists = []\n",
    "tracks = []\n",
    "artists = []\n",
    "albums = []"
   ]
  },
  {
   "cell_type": "code",
   "execution_count": 22,
   "id": "d6e8a32b",
   "metadata": {},
   "outputs": [],
   "source": [
    "count_files = 0\n",
    "count_playlists = 0\n",
    "count_interactions = 0\n",
    "count_tracks = 0\n",
    "count_artists = 0\n",
    "count_albums = 0\n",
    "dict_tracks = {}\n",
    "dict_artists = {}\n",
    "dict_albums = {}"
   ]
  },
  {
   "cell_type": "code",
   "execution_count": 23,
   "id": "dba3f85d",
   "metadata": {},
   "outputs": [],
   "source": [
    "def process_mpd(path):\n",
    "    global count_playlists\n",
    "    global count_files\n",
    "    filenames = os.listdir(path)\n",
    "    for filename in tqdm(sorted(filenames)):\n",
    "        if filename.startswith(\"mpd.slice.\") and filename.endswith(\".json\"):\n",
    "            fullpath = os.sep.join((path, filename))\n",
    "            f = open(fullpath)\n",
    "            js = f.read()\n",
    "            f.close()\n",
    "            mpd_slice = json.loads(js)\n",
    "            process_info(mpd_slice['info'])\n",
    "            for playlist in mpd_slice['playlists']:\n",
    "                process_playlist(playlist)\n",
    "                pid = playlist['pid']\n",
    "                for track in playlist['tracks']:\n",
    "                    track['pid']=pid\n",
    "                    new = add_id_artist(track)\n",
    "                    if new: process_artist(track)\n",
    "                    new = add_id_album(track)\n",
    "                    if new: process_album(track)\n",
    "                    new = add_id_track(track)\n",
    "                    if new: process_track(track)\n",
    "                    process_interaction(track)\n",
    "                count_playlists += 1\n",
    "            count_files +=1\n",
    "\n",
    "    show_summary()"
   ]
  },
  {
   "cell_type": "code",
   "execution_count": 24,
   "id": "c2768555",
   "metadata": {},
   "outputs": [],
   "source": [
    "def process_info(value):\n",
    "    #print (json.dumps(value, indent=3, sort_keys=False))\n",
    "    pass\n",
    "\n",
    "def add_id_track(track):\n",
    "    global count_tracks\n",
    "    if track['track_uri'] not in dict_tracks:\n",
    "        dict_tracks[track['track_uri']] = count_tracks\n",
    "        track['tid'] = count_tracks\n",
    "        count_tracks += 1\n",
    "        return True\n",
    "    else:\n",
    "        track['tid'] = dict_tracks[track['track_uri']]\n",
    "        return False\n",
    "\n",
    "def add_id_artist(track):\n",
    "    global count_artists\n",
    "    if track['artist_uri'] not in dict_artists:\n",
    "        dict_artists[track['artist_uri']] = count_artists\n",
    "        track['arid'] = count_artists\n",
    "        count_artists += 1\n",
    "        return True\n",
    "    else:\n",
    "        track['arid'] = dict_artists[track['artist_uri']]\n",
    "        return False\n",
    "\n",
    "def add_id_album(track):\n",
    "    global count_albums\n",
    "    if track['album_uri'] not in dict_albums:\n",
    "        dict_albums[track['album_uri']] = count_albums\n",
    "        track['alid'] = count_albums\n",
    "        count_albums += 1\n",
    "        return True\n",
    "    else:\n",
    "        track['alid'] = dict_albums[track['album_uri']]\n",
    "        return False\n",
    "\n",
    "def process_track(track):\n",
    "    global track_fields\n",
    "    info = []\n",
    "    for field in track_fields:\n",
    "        info.append(track[field])\n",
    "    tracks.append(info)\n",
    "\n",
    "def process_album(track):\n",
    "    global album_fields\n",
    "    info = []\n",
    "    for field in album_fields:\n",
    "        info.append(track[field])\n",
    "    albums.append(info)\n",
    "\n",
    "def process_artist(track):\n",
    "    global artist_fields\n",
    "    info = []\n",
    "    for field in artist_fields:\n",
    "        info.append(track[field])\n",
    "    artists.append(info)\n",
    "\n",
    "def process_interaction(track):\n",
    "    global interaction_fields\n",
    "    global count_interactions\n",
    "    info = []\n",
    "    for field in interaction_fields:\n",
    "        info.append(track[field])\n",
    "    interactions.append(info)\n",
    "    count_interactions +=1\n",
    "\n",
    "def process_playlist(playlist):\n",
    "    global playlist_fields\n",
    "    if not 'description' in playlist:\n",
    "        playlist['description'] = None\n",
    "    info = []\n",
    "    for field in playlist_fields:\n",
    "        info.append(playlist[field])\n",
    "    playlists.append(info)\n",
    "    \n",
    "    \n",
    "        \n",
    "def show_summary():\n",
    "    print (count_files)\n",
    "    print (count_playlists)\n",
    "    print (count_tracks)\n",
    "    print (count_artists)\n",
    "    print (count_albums)\n",
    "    print (count_interactions)\n"
   ]
  },
  {
   "cell_type": "code",
   "execution_count": 25,
   "id": "2c2f0b3e",
   "metadata": {},
   "outputs": [
    {
     "name": "stderr",
     "output_type": "stream",
     "text": [
      "100%|██████████████████████████████████████████████████████████████████████████████| 1000/1000 [17:36<00:00,  1.06s/it]"
     ]
    },
    {
     "name": "stdout",
     "output_type": "stream",
     "text": [
      "1000\n",
      "1000000\n",
      "2262292\n",
      "295860\n",
      "734684\n",
      "66346428\n"
     ]
    },
    {
     "name": "stderr",
     "output_type": "stream",
     "text": [
      "\n"
     ]
    }
   ],
   "source": [
    "process_mpd(path_to_load)"
   ]
  },
  {
   "cell_type": "code",
   "execution_count": 30,
   "id": "5b572153",
   "metadata": {},
   "outputs": [
    {
     "name": "stdout",
     "output_type": "stream",
     "text": [
      "artists.csv done\n"
     ]
    }
   ],
   "source": [
    "with open(path_to_csv+\"artists.csv\", \"w\", encoding='utf-8') as f:\n",
    "    writer = csv.writer(f,delimiter = \",\",)\n",
    "    writer.writerow(artist_fields)\n",
    "    writer.writerows(artists)\n",
    "print (\"artists.csv done\")"
   ]
  },
  {
   "cell_type": "code",
   "execution_count": 31,
   "id": "9dbc1e91",
   "metadata": {},
   "outputs": [
    {
     "name": "stdout",
     "output_type": "stream",
     "text": [
      "albums.csv done\n",
      "interactions.csv done\n",
      "tracks.csv done\n",
      "playlists.csv done\n"
     ]
    }
   ],
   "source": [
    "with open(path_to_csv+\"albums.csv\", \"w\", encoding='utf-8') as f:\n",
    "    writer = csv.writer(f,delimiter = \",\",)\n",
    "    writer.writerow(album_fields)\n",
    "    writer.writerows(albums)\n",
    "print (\"albums.csv done\")\n",
    "    \n",
    "with open(path_to_csv+\"interactions.csv\", \"w\", encoding='utf-8') as f:\n",
    "    writer = csv.writer(f,delimiter = \",\",)\n",
    "    writer.writerow(interaction_fields)\n",
    "    writer.writerows(interactions)\n",
    "print (\"interactions.csv done\")\n",
    "\n",
    "with open(path_to_csv+\"tracks.csv\", \"w\", encoding='utf-8') as f:\n",
    "    writer = csv.writer(f,delimiter = \",\",)\n",
    "    writer.writerow(track_fields)\n",
    "    writer.writerows(tracks)\n",
    "print (\"tracks.csv done\")\n",
    "\n",
    "with open(path_to_csv+\"playlists.csv\", \"w\", encoding='utf-8') as f:\n",
    "    writer = csv.writer(f,delimiter = \",\",)\n",
    "    writer.writerow(playlist_fields)\n",
    "    writer.writerows(playlists)\n",
    "print (\"playlists.csv done\")"
   ]
  },
  {
   "cell_type": "code",
   "execution_count": null,
   "id": "b05b5c9b",
   "metadata": {},
   "outputs": [],
   "source": []
  }
 ],
 "metadata": {
  "kernelspec": {
   "display_name": "Python 3 (ipykernel)",
   "language": "python",
   "name": "python3"
  },
  "language_info": {
   "codemirror_mode": {
    "name": "ipython",
    "version": 3
   },
   "file_extension": ".py",
   "mimetype": "text/x-python",
   "name": "python",
   "nbconvert_exporter": "python",
   "pygments_lexer": "ipython3",
   "version": "3.11.7"
  }
 },
 "nbformat": 4,
 "nbformat_minor": 5
}
