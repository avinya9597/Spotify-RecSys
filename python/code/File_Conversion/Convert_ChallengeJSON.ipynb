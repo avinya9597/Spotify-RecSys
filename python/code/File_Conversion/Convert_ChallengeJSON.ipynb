{
 "cells": [
  {
   "cell_type": "code",
   "execution_count": 27,
   "id": "26b8be45",
   "metadata": {},
   "outputs": [],
   "source": [
    "import json\n",
    "import pandas as pd\n",
    "import numpy as np\n",
    "import sys\n",
    "\n",
    "path_to_json='../../data/challenge_dataset/challenge_set.json'\n",
    "path_to_csv='../../data/csv/'"
   ]
  },
  {
   "cell_type": "code",
   "execution_count": 26,
   "id": "c45f81bf",
   "metadata": {},
   "outputs": [],
   "source": [
    "import csv\n",
    "\n",
    "\n",
    "playlists_file = open(path.join(path_to_csv, 'plapath_to_csvylists_challenge.csv'), 'w', newline='', encoding='utf8')\n",
    "items_file = open(path.join(path_to_csv, 'items_challenge.csv'), 'w', newline='', encoding='utf8')\n",
    "\n",
    "playlists_writer = csv.writer(playlists_file)\n",
    "items_writer = csv.writer(items_file)"
   ]
  },
  {
   "cell_type": "code",
   "execution_count": 28,
   "id": "e94af330",
   "metadata": {},
   "outputs": [],
   "source": [
    "with open(path_to_json) as json_file:\n",
    "    json_slice = json.load(json_file)\n",
    "\n",
    "    for playlist in json_slice['playlists']:\n",
    "        try:\n",
    "            playlist_name = playlist['name']\n",
    "        except KeyError:\n",
    "            playlist_name = None\n",
    "\n",
    "        playlists_writer.writerow([playlist['pid'], playlist_name,\n",
    "                                   playlist['num_samples'], playlist['num_holdouts'],\n",
    "                                   playlist['num_tracks']])\n",
    "\n",
    "        for track in playlist['tracks']:\n",
    "            items_writer.writerow([playlist['pid'], track['pos'], track['track_uri']])"
   ]
  },
  {
   "cell_type": "code",
   "execution_count": null,
   "id": "df6bbc40",
   "metadata": {},
   "outputs": [],
   "source": []
  }
 ],
 "metadata": {
  "kernelspec": {
   "display_name": "Python 3 (ipykernel)",
   "language": "python",
   "name": "python3"
  },
  "language_info": {
   "codemirror_mode": {
    "name": "ipython",
    "version": 3
   },
   "file_extension": ".py",
   "mimetype": "text/x-python",
   "name": "python",
   "nbconvert_exporter": "python",
   "pygments_lexer": "ipython3",
   "version": "3.11.7"
  }
 },
 "nbformat": 4,
 "nbformat_minor": 5
}
