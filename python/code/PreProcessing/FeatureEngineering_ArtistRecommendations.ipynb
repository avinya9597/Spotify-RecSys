{
 "cells": [
  {
   "cell_type": "code",
   "execution_count": 53,
   "id": "be3bbb0a",
   "metadata": {},
   "outputs": [],
   "source": [
    "import pandas as pd\n",
    "from sklearn.preprocessing import LabelEncoder\n",
    "import matplotlib.pyplot as plt\n",
    "from sklearn.metrics.pairwise import cosine_similarity\n",
    "from sklearn.preprocessing import StandardScaler\n",
    "import seaborn as sns"
   ]
  },
  {
   "cell_type": "code",
   "execution_count": 54,
   "id": "fc58d8f1",
   "metadata": {},
   "outputs": [],
   "source": [
    "# Load the dataset\n",
    "data = pd.read_csv('../../../data/csv/mySpotifyData.csv')"
   ]
  },
  {
   "cell_type": "code",
   "execution_count": 55,
   "id": "cba31e62",
   "metadata": {},
   "outputs": [],
   "source": [
    "# Check the unique genres in the dataset\n",
    "unique_genres = data['genre'].unique()\n",
    "\n",
    "# Initialize LabelEncoder\n",
    "label_encoder = LabelEncoder()\n",
    "\n",
    "# Fit LabelEncoder on unique genres and transform genre column\n",
    "data['genre_encoded'] = label_encoder.fit_transform(data['genre'])"
   ]
  },
  {
   "cell_type": "code",
   "execution_count": 56,
   "id": "7be0fd19",
   "metadata": {},
   "outputs": [
    {
     "data": {
      "text/plain": [
       "Index(['Unnamed: 0', 'track_name', 'artist_name', 'album_name', 'genre',\n",
       "       'duration_ms', 'popularity', 'explicit', 'track_id', 'artist_id',\n",
       "       'danceability', 'energy', 'key', 'loudness', 'mode', 'speechiness',\n",
       "       'acousticness', 'instrumentalness', 'liveness', 'valence', 'tempo',\n",
       "       'genre_encoded'],\n",
       "      dtype='object')"
      ]
     },
     "execution_count": 56,
     "metadata": {},
     "output_type": "execute_result"
    }
   ],
   "source": [
    "data.columns"
   ]
  },
  {
   "cell_type": "code",
   "execution_count": 57,
   "id": "df13bce3",
   "metadata": {},
   "outputs": [
    {
     "name": "stdout",
     "output_type": "stream",
     "text": [
      "Genre Mapping:\n",
      "{'acoustic': 0, 'afrobeat': 1, 'alt-rock': 2, 'alternative': 3, 'ambient': 4, 'anime': 5, 'black-metal': 6, 'bluegrass': 7, 'blues': 8, 'brazil': 9, 'breakbeat': 10, 'british': 11, 'cantopop': 12, 'chicago-house': 13, 'children': 14, 'chill': 15, 'classical': 16, 'club': 17, 'comedy': 18, 'country': 19, 'dance': 20, 'dancehall': 21, 'death-metal': 22, 'deep-house': 23, 'detroit-techno': 24, 'disco': 25, 'drum-and-bass': 26, 'dub': 27, 'dubstep': 28, 'edm': 29, 'electro': 30, 'electronic': 31, 'emo': 32, 'folk': 33, 'forro': 34, 'french': 35, 'funk': 36, 'garage': 37, 'german': 38, 'gospel': 39, 'goth': 40, 'grindcore': 41, 'groove': 42, 'grunge': 43, 'guitar': 44, 'happy': 45, 'hard-rock': 46, 'hardcore': 47, 'hardstyle': 48, 'heavy-metal': 49, 'hip-hop': 50, 'honky-tonk': 51, 'house': 52, 'idm': 53, 'indian': 54, 'indie': 55, 'indie-pop': 56, 'industrial': 57, 'iranian': 58, 'j-dance': 59, 'j-idol': 60, 'j-pop': 61, 'j-rock': 62, 'jazz': 63, 'k-pop': 64, 'kids': 65, 'latin': 66, 'latino': 67, 'malay': 68, 'mandopop': 69, 'metal': 70, 'metalcore': 71, 'minimal-techno': 72, 'mpb': 73, 'new-age': 74, 'opera': 75, 'pagode': 76, 'party': 77, 'piano': 78, 'pop': 79, 'pop-film': 80, 'power-pop': 81, 'progressive-house': 82, 'psych-rock': 83, 'punk': 84, 'punk-rock': 85, 'r-n-b': 86, 'reggae': 87, 'reggaeton': 88, 'rock': 89, 'rock-n-roll': 90, 'rockabilly': 91, 'romance': 92, 'sad': 93, 'salsa': 94, 'samba': 95, 'sertanejo': 96, 'show-tunes': 97, 'singer-songwriter': 98, 'ska': 99, 'sleep': 100, 'songwriter': 101, 'soul': 102, 'spanish': 103, 'study': 104, 'swedish': 105, 'synth-pop': 106, 'tango': 107, 'techno': 108, 'trance': 109, 'trip-hop': 110, 'turkish': 111, 'world-music': 112}\n"
     ]
    }
   ],
   "source": [
    "# Display the mapping between original genres and encoded values\n",
    "genre_mapping = dict(zip(label_encoder.classes_, label_encoder.transform(label_encoder.classes_)))\n",
    "print(\"Genre Mapping:\")\n",
    "print(genre_mapping)"
   ]
  },
  {
   "cell_type": "code",
   "execution_count": 58,
   "id": "0c208945",
   "metadata": {},
   "outputs": [],
   "source": [
    "# Aggregate popularity for each artist\n",
    "artist_popularity = data.groupby('artist_name')['popularity'].mean()"
   ]
  },
  {
   "cell_type": "code",
   "execution_count": 59,
   "id": "d89a56af",
   "metadata": {},
   "outputs": [
    {
     "data": {
      "image/png": "[encoded data removed]",
      "text/plain": [
       "<Figure size 1000x600 with 1 Axes>"
      ]
     },
     "metadata": {},
     "output_type": "display_data"
    }
   ],
   "source": [
    "# Plot histogram of aggregated artist popularity\n",
    "plt.figure(figsize=(10, 6))\n",
    "plt.hist(artist_popularity, bins=20, edgecolor='black')\n",
    "plt.title('Distribution of Aggregated Artist Popularity')\n",
    "plt.xlabel('Mean Popularity')\n",
    "plt.ylabel('Frequency')\n",
    "plt.show()"
   ]
  },
  {
   "cell_type": "code",
   "execution_count": 60,
   "id": "39c14c97",
   "metadata": {},
   "outputs": [
    {
     "name": "stdout",
     "output_type": "stream",
     "text": [
      "Top 10 Most Popular Artists:\n",
      "artist_name\n",
      "Taylor Swift      92.000000\n",
      "NF                76.000000\n",
      "Tulus             75.000000\n",
      "d4vd              75.000000\n",
      "Nicki Minaj       74.000000\n",
      "Romeo Santos      73.000000\n",
      "Clinton Kane      72.000000\n",
      "Alien Ant Farm    71.521127\n",
      "Hugh Jackman      71.000000\n",
      "Luke Combs        71.000000\n",
      "Name: popularity, dtype: float64\n"
     ]
    }
   ],
   "source": [
    "# Top N Most Popular Artists\n",
    "top_n = 10\n",
    "top_artists = artist_popularity.nlargest(top_n)\n",
    "print(\"Top {} Most Popular Artists:\".format(top_n))\n",
    "print(top_artists)"
   ]
  },
  {
   "cell_type": "code",
   "execution_count": 61,
   "id": "123cd465",
   "metadata": {},
   "outputs": [
    {
     "name": "stdout",
     "output_type": "stream",
     "text": [
      "\n",
      "Artists with Lowest Popularity:\n",
      "artist_name\n",
      "!housebroken                     0.0\n",
      "&lez                             0.0\n",
      "+plattform                       0.0\n",
      ".and sex in the mini country.    0.0\n",
      "102nd Century                    0.0\n",
      "111X                             0.0\n",
      "11PARANOIAS                      0.0\n",
      "12 Cents For Marvin              0.0\n",
      "12 Singes                        0.0\n",
      "13 Bats                          0.0\n",
      "Name: popularity, dtype: float64\n"
     ]
    }
   ],
   "source": [
    "# Artists with lowest popularity\n",
    "bottom_10_artists = artist_popularity.nsmallest(10)\n",
    "print(\"\\nArtists with Lowest Popularity:\")\n",
    "print(bottom_10_artists)"
   ]
  },
  {
   "cell_type": "code",
   "execution_count": 62,
   "id": "ccb824f8",
   "metadata": {},
   "outputs": [
    {
     "name": "stdout",
     "output_type": "stream",
     "text": [
      "\n",
      "Top Artist in Each Genre by Popularity:\n",
      "             genre     artist_name  popularity\n",
      "115       acoustic     Ichiko Aoba        62.0\n",
      "630       afrobeat        melvitto        63.0\n",
      "1022      alt-rock      Sena Şener        62.0\n",
      "1186   alternative  Alien Ant Farm        78.0\n",
      "1868       ambient          Burzum        57.0\n",
      "...            ...             ...         ...\n",
      "41624       techno         Mathame        46.0\n",
      "42063       trance     I See Stars        53.0\n",
      "42414     trip-hop         Elsiane        40.0\n",
      "42583      turkish    Barış Akarsu        62.0\n",
      "43049  world-music   Jeremy Riddle        46.0\n",
      "\n",
      "[113 rows x 3 columns]\n"
     ]
    }
   ],
   "source": [
    "# Genre-wise Popularity\n",
    "genre_popularity = data.groupby(['genre', 'artist_name'])['popularity'].mean().reset_index()\n",
    "top_genre_artists = genre_popularity.groupby('genre')['popularity'].idxmax()\n",
    "top_genre_artists_info = genre_popularity.loc[top_genre_artists]\n",
    "print(\"\\nTop Artist in Each Genre by Popularity:\")\n",
    "print(top_genre_artists_info[['genre', 'artist_name', 'popularity']])"
   ]
  }
 ],
 "metadata": {
  "kernelspec": {
   "display_name": "Python 3 (ipykernel)",
   "language": "python",
   "name": "python3"
  },
  "language_info": {
   "codemirror_mode": {
    "name": "ipython",
    "version": 3
   },
   "file_extension": ".py",
   "mimetype": "text/x-python",
   "name": "python",
   "nbconvert_exporter": "python",
   "pygments_lexer": "ipython3",
   "version": "3.11.7"
  }
 },
 "nbformat": 4,
 "nbformat_minor": 5
}
